{
 "metadata": {
  "language_info": {
   "codemirror_mode": {
    "name": "ipython",
    "version": 3
   },
   "file_extension": ".py",
   "mimetype": "text/x-python",
   "name": "python",
   "nbconvert_exporter": "python",
   "pygments_lexer": "ipython3",
   "version": "3.7.9-final"
  },
  "orig_nbformat": 2,
  "kernelspec": {
   "name": "Python 3.7.9 64-bit ('base': conda)",
   "display_name": "Python 3.7.9 64-bit ('base': conda)",
   "metadata": {
    "interpreter": {
     "hash": "b3ba2566441a7c06988d0923437866b63cedc61552a5af99d1f4fb67d367b25f"
    }
   }
  }
 },
 "nbformat": 4,
 "nbformat_minor": 2,
 "cells": [
  {
   "cell_type": "code",
   "execution_count": 1,
   "metadata": {},
   "outputs": [
    {
     "output_type": "stream",
     "name": "stdout",
     "text": [
      "250475.16653195437 -- 6.961822509765625 ms\n"
     ]
    }
   ],
   "source": [
    "import numpy as np \n",
    "import time\n",
    "a = np.random.rand(1000000)\n",
    "b = np.random.rand(1000000)\n",
    "tik = time.time()\n",
    "v = np.dot(a,b)\n",
    "tok = time.time()\n",
    "print(v,\"--\",1000*(tok-tik),\"ms\")"
   ]
  },
  {
   "cell_type": "code",
   "execution_count": 2,
   "metadata": {},
   "outputs": [
    {
     "output_type": "stream",
     "name": "stdout",
     "text": [
      "250475.16653195306 -- 596.4024066925049 ms\n"
     ]
    }
   ],
   "source": [
    "v = 0\n",
    "tik = time.time()\n",
    "for i in range(1000000):\n",
    "    v+=a[i]*b[i]\n",
    "tok = time.time()\n",
    "print(v,\"--\",1000*(tok-tik),\"ms\")"
   ]
  }
 ]
}