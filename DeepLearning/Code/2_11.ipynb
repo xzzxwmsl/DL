{
 "metadata": {
  "language_info": {
   "codemirror_mode": {
    "name": "ipython",
    "version": 3
   },
   "file_extension": ".py",
   "mimetype": "text/x-python",
   "name": "python",
   "nbconvert_exporter": "python",
   "pygments_lexer": "ipython3",
   "version": "3.7.9-final"
  },
  "orig_nbformat": 2,
  "kernelspec": {
   "name": "Python 3.7.9 64-bit ('base': conda)",
   "display_name": "Python 3.7.9 64-bit ('base': conda)",
   "metadata": {
    "interpreter": {
     "hash": "b3ba2566441a7c06988d0923437866b63cedc61552a5af99d1f4fb67d367b25f"
    }
   }
  }
 },
 "nbformat": 4,
 "nbformat_minor": 2,
 "cells": [
  {
   "cell_type": "code",
   "execution_count": 21,
   "metadata": {},
   "outputs": [
    {
     "output_type": "stream",
     "name": "stdout",
     "text": [
      "250488.8530290324 -- 0.9963512420654297 ms\n"
     ]
    }
   ],
   "source": [
    "import numpy as np \n",
    "import time\n",
    "a = np.random.rand(1000000)\n",
    "b = np.random.rand(1000000)\n",
    "tik = time.time()\n",
    "v = np.dot(a,b)\n",
    "tok = time.time()\n",
    "print(v,\"--\",1000*(tok-tik),\"ms\")"
   ]
  },
  {
   "cell_type": "code",
   "execution_count": 22,
   "metadata": {},
   "outputs": [
    {
     "output_type": "stream",
     "name": "stdout",
     "text": [
      "250488.8530290228 -- 622.3809719085693 ms\n"
     ]
    }
   ],
   "source": [
    "v = 0\n",
    "tik = time.time()\n",
    "for i in range(1000000):\n",
    "    v+=a[i]*b[i]\n",
    "tok = time.time()\n",
    "print(v,\"--\",1000*(tok-tik),\"ms\")"
   ]
  },
  {
   "cell_type": "code",
   "execution_count": 23,
   "metadata": {},
   "outputs": [
    {
     "output_type": "stream",
     "name": "stdout",
     "text": [
      "[[ 56.    0.    4.4  68. ]\n [  1.2 104.   52.    8. ]\n [  1.8 135.   99.    0.9]]\n"
     ]
    }
   ],
   "source": [
    "# 广播\n",
    "A = np.array([[56.0,0,4.4,68.0],\n",
    "             [1.2,104,52,8],\n",
    "             [1.8,135,99,0.9]])\n",
    "print(A)"
   ]
  },
  {
   "cell_type": "code",
   "execution_count": 24,
   "metadata": {},
   "outputs": [
    {
     "output_type": "stream",
     "name": "stdout",
     "text": [
      "[ 59.  239.  155.4  76.9]\n"
     ]
    }
   ],
   "source": [
    "col = A.sum(axis=0)\n",
    "# axis = 0:列, axis = 1:行\n",
    "print(col)"
   ]
  },
  {
   "cell_type": "code",
   "execution_count": 25,
   "metadata": {},
   "outputs": [
    {
     "output_type": "stream",
     "name": "stdout",
     "text": [
      "[[94.91525424  0.          2.83140283 88.42652796]\n [ 2.03389831 43.51464435 33.46203346 10.40312094]\n [ 3.05084746 56.48535565 63.70656371  1.17035111]]\n"
     ]
    }
   ],
   "source": [
    "percentage = 100*A/col.reshape(1,4)\n",
    "print(percentage)"
   ]
  },
  {
   "cell_type": "code",
   "execution_count": 26,
   "metadata": {},
   "outputs": [
    {
     "output_type": "stream",
     "name": "stdout",
     "text": [
      "[-0.73455047 -0.03382991  0.161577   -0.08907235 -0.4922561 ]\n[[ 0.97080125]\n [ 0.11246483]\n [-0.51621821]\n [-1.62152641]\n [-0.23573427]]\n[[ 1.1599227  -1.5184993   0.25954146 -2.02668332 -0.26095551]]\n[[-0.9660722   0.76428046  0.07247342]\n [-1.19058997 -3.34152293 -0.38616951]\n [-0.33405513 -0.25050605 -0.59999108]]\n[[-0.73455047]\n [-0.03382991]\n [ 0.161577  ]\n [-0.08907235]\n [-0.4922561 ]]\n"
     ]
    }
   ],
   "source": [
    "# 秩为1的数组\n",
    "array_a = np.random.randn(5)\n",
    "# 5*1的向量\n",
    "vector_a = np.random.randn(5,1)\n",
    "# 1*5的向量\n",
    "vector_b = np.random.randn(1,5)\n",
    "# 3*3的向量\n",
    "vector_c = np.random.randn(3,3)\n",
    "\n",
    "print(array_a)\n",
    "print(vector_a)\n",
    "print(vector_b)\n",
    "print(vector_c)\n",
    "print(array_a.reshape((5,1)))"
   ]
  },
  {
   "cell_type": "code",
   "execution_count": 28,
   "metadata": {},
   "outputs": [],
   "source": [
    "# assert(array_a.shape == (5,1)) # wrong\n",
    "assert(vector_a.shape == (5,1))"
   ]
  },
  {
   "cell_type": "code",
   "execution_count": null,
   "metadata": {},
   "outputs": [],
   "source": []
  }
 ]
}